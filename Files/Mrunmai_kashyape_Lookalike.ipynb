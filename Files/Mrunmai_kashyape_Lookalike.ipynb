{
 "cells": [
  {
   "cell_type": "markdown",
   "metadata": {},
   "source": [
    "## Task 2 : Lookalike Model"
   ]
  },
  {
   "cell_type": "code",
   "execution_count": 1,
   "metadata": {},
   "outputs": [
    {
     "name": "stdout",
     "output_type": "stream",
     "text": [
      "Requirement already satisfied: scikit-learn in c:\\users\\mrunmai k\\appdata\\local\\programs\\python\\python312\\lib\\site-packages (1.6.1)\n",
      "Requirement already satisfied: numpy>=1.19.5 in c:\\users\\mrunmai k\\appdata\\local\\programs\\python\\python312\\lib\\site-packages (from scikit-learn) (2.1.0)\n",
      "Requirement already satisfied: scipy>=1.6.0 in c:\\users\\mrunmai k\\appdata\\local\\programs\\python\\python312\\lib\\site-packages (from scikit-learn) (1.15.1)\n",
      "Requirement already satisfied: joblib>=1.2.0 in c:\\users\\mrunmai k\\appdata\\local\\programs\\python\\python312\\lib\\site-packages (from scikit-learn) (1.4.2)\n",
      "Requirement already satisfied: threadpoolctl>=3.1.0 in c:\\users\\mrunmai k\\appdata\\local\\programs\\python\\python312\\lib\\site-packages (from scikit-learn) (3.5.0)\n",
      "Note: you may need to restart the kernel to use updated packages.\n"
     ]
    },
    {
     "name": "stderr",
     "output_type": "stream",
     "text": [
      "\n",
      "[notice] A new release of pip is available: 24.2 -> 24.3.1\n",
      "[notice] To update, run: python.exe -m pip install --upgrade pip\n"
     ]
    }
   ],
   "source": [
    "%pip install scikit-learn"
   ]
  },
  {
   "cell_type": "code",
   "execution_count": 4,
   "metadata": {},
   "outputs": [],
   "source": [
    "import pandas as pd\n",
    "from sklearn.preprocessing import MinMaxScaler\n",
    "from sklearn.metrics.pairwise import cosine_similarity"
   ]
  },
  {
   "cell_type": "code",
   "execution_count": 5,
   "metadata": {},
   "outputs": [],
   "source": [
    "customers = pd.read_csv(r\"C:\\Users\\mrunmai k\\OneDrive\\Desktop\\DataScienceInternAssign\\files\\Customers.csv\")\n",
    "products = pd.read_csv(r\"C:\\Users\\mrunmai k\\OneDrive\\Desktop\\DataScienceInternAssign\\files\\Products.csv\")\n",
    "transactions = pd.read_csv(r\"C:\\Users\\mrunmai k\\OneDrive\\Desktop\\DataScienceInternAssign\\files\\Transactions.csv\")\n"
   ]
  },
  {
   "cell_type": "code",
   "execution_count": 6,
   "metadata": {},
   "outputs": [],
   "source": [
    "# Merge datasets\n",
    "merged_data = pd.merge(transactions, customers, on=\"CustomerID\", how=\"left\")\n",
    "merged_data = pd.merge(merged_data, products, on=\"ProductID\", how=\"left\")\n"
   ]
  },
  {
   "cell_type": "code",
   "execution_count": 7,
   "metadata": {},
   "outputs": [],
   "source": [
    "# Feature Engineering : Total spending per customer\n",
    "customer_spending = merged_data.groupby(\"CustomerID\")[\"TotalValue\"].sum().reset_index()\n",
    "customer_spending.rename(columns={\"TotalValue\": \"TotalSpending\"}, inplace=True)"
   ]
  },
  {
   "cell_type": "code",
   "execution_count": 8,
   "metadata": {},
   "outputs": [],
   "source": [
    "# 2. Most frequent product category for each customer\n",
    "most_frequent_category = merged_data.groupby(\"CustomerID\")[\"Category\"].agg(lambda x: x.mode()[0]).reset_index()\n",
    "most_frequent_category.rename(columns={\"Category\": \"FrequentCategory\"}, inplace=True)\n"
   ]
  },
  {
   "cell_type": "code",
   "execution_count": 9,
   "metadata": {},
   "outputs": [],
   "source": [
    "# 3. Add region information\n",
    "customer_region = customers[[\"CustomerID\", \"Region\"]]"
   ]
  },
  {
   "cell_type": "code",
   "execution_count": 10,
   "metadata": {},
   "outputs": [],
   "source": [
    "# Combine features\n",
    "customer_profile = pd.merge(customer_spending, most_frequent_category, on=\"CustomerID\")\n",
    "customer_profile = pd.merge(customer_profile, customer_region, on=\"CustomerID\")\n"
   ]
  },
  {
   "cell_type": "code",
   "execution_count": 11,
   "metadata": {},
   "outputs": [],
   "source": [
    "# Encode categorical features (Region, FrequentCategory)\n",
    "customer_profile = pd.get_dummies(customer_profile, columns=[\"Region\", \"FrequentCategory\"], drop_first=True)\n"
   ]
  },
  {
   "cell_type": "code",
   "execution_count": 12,
   "metadata": {},
   "outputs": [],
   "source": [
    "# Normalize numerical features \n",
    "scaler = MinMaxScaler()\n",
    "customer_profile_scaled = customer_profile.copy()\n",
    "customer_profile_scaled[[\"TotalSpending\"]] = scaler.fit_transform(customer_profile[[\"TotalSpending\"]])\n"
   ]
  },
  {
   "cell_type": "code",
   "execution_count": 13,
   "metadata": {},
   "outputs": [],
   "source": [
    "# Similarity Computation\n",
    "customer_ids = customer_profile_scaled[\"CustomerID\"]\n",
    "feature_matrix = customer_profile_scaled.drop(\"CustomerID\", axis=1)\n",
    "\n",
    "similarity_matrix = cosine_similarity(feature_matrix)\n"
   ]
  },
  {
   "cell_type": "code",
   "execution_count": 15,
   "metadata": {},
   "outputs": [],
   "source": [
    "# Recommend Top 3 Lookalikes for Each Customer\n",
    "lookalike_map = {}\n",
    "for idx, customer_id in enumerate(customer_ids):\n",
    "    # Get similarity scores for the current customer\n",
    "    scores = list(enumerate(similarity_matrix[idx]))\n",
    "    # Sort by similarity score in descending order, excluding the customer itself\n",
    "    scores = sorted(scores, key=lambda x: x[1], reverse=True)[1:4]\n",
    "    # Map customer_id to the top 3 similar customers with scores\n",
    "    lookalike_map[customer_id] = [(customer_ids[i], round(score, 3)) for i, score in scores]\n"
   ]
  },
  {
   "cell_type": "code",
   "execution_count": 16,
   "metadata": {},
   "outputs": [],
   "source": [
    "# Filter for Customers C0001 to C0020\n",
    "filtered_lookalikes = {k: v for k, v in lookalike_map.items() if k in customers[\"CustomerID\"][:20].values}\n"
   ]
  },
  {
   "cell_type": "code",
   "execution_count": 18,
   "metadata": {},
   "outputs": [
    {
     "name": "stdout",
     "output_type": "stream",
     "text": [
      "Lookalike model results saved to 'Lookalike.csv'.\n"
     ]
    }
   ],
   "source": [
    "# Save results to Lookalike.csv\n",
    "lookalike_df = pd.DataFrame({\n",
    "    \"CustomerID\": filtered_lookalikes.keys(),\n",
    "    \"Lookalikes\": [v for v in filtered_lookalikes.values()]\n",
    "})\n",
    "lookalike_df.to_csv(\"Mrunmai_Kashaype_Lookalike.csv\", index=False)\n",
    "\n",
    "print(\"Lookalike model results saved to 'Lookalike.csv'.\")"
   ]
  },
  {
   "cell_type": "code",
   "execution_count": null,
   "metadata": {},
   "outputs": [],
   "source": []
  }
 ],
 "metadata": {
  "kernelspec": {
   "display_name": "Python 3",
   "language": "python",
   "name": "python3"
  },
  "language_info": {
   "codemirror_mode": {
    "name": "ipython",
    "version": 3
   },
   "file_extension": ".py",
   "mimetype": "text/x-python",
   "name": "python",
   "nbconvert_exporter": "python",
   "pygments_lexer": "ipython3",
   "version": "3.12.5"
  }
 },
 "nbformat": 4,
 "nbformat_minor": 2
}
